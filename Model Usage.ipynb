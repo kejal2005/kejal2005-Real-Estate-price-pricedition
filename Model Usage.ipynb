{
 "cells": [
  {
   "cell_type": "code",
   "execution_count": 1,
   "id": "8f25ca06-cba5-4a7f-8ef3-292d6c678d2c",
   "metadata": {},
   "outputs": [],
   "source": [
    "from joblib import dump, load\n",
    "import numpy as np \n",
    "model = load('Real_Estates.joblib')\n",
    "features = np.array([ [1.33634919, -2.69827898,  10.18998546,  2.88477281, -0.37510886,\n",
    "       -0.48993566, -1.38876478]])\n",
    "model.predict(features)\n"
   ]
  },
  {
   "cell_type": "code",
   "execution_count": 4,
   "id": "183cde54-be30-4156-8315-39736568e5af",
   "metadata": {},
   "outputs": [
    {
     "data": {
      "text/plain": [
       "array([23.348])"
      ]
     },
     "execution_count": 4,
     "metadata": {},
     "output_type": "execute_result"
    }
   ],
   "source": [
    "features = np.array([ [1.33634919, -2.69827898,  10.18998546,  2.88477281, -0.37510886,\n",
    "       -0.48993566, -1.38876478]])\n",
    "model.predict(features)\n"
   ]
  }
 ],
 "metadata": {
  "kernelspec": {
   "display_name": "Python 3 (ipykernel)",
   "language": "python",
   "name": "python3"
  },
  "language_info": {
   "codemirror_mode": {
    "name": "ipython",
    "version": 3
   },
   "file_extension": ".py",
   "mimetype": "text/x-python",
   "name": "python",
   "nbconvert_exporter": "python",
   "pygments_lexer": "ipython3",
   "version": "3.12.6"
  }
 },
 "nbformat": 4,
 "nbformat_minor": 5
}
